{
 "cells": [
  {
   "cell_type": "code",
   "execution_count": 1,
   "metadata": {
    "collapsed": true
   },
   "outputs": [],
   "source": [
    "#load data\n",
    "import csv\n",
    "with open('SPECT.train.txt', 'r') as f:\n",
    "    train = list(csv.reader(f))\n",
    "with open('SPECT.test.txt', 'r') as f:\n",
    "    test = list(csv.reader(f))"
   ]
  },
  {
   "cell_type": "code",
   "execution_count": 4,
   "metadata": {
    "collapsed": true
   },
   "outputs": [],
   "source": [
    "#separate train and test portions\n",
    "train_data=[]\n",
    "test_data=[]\n",
    "for a in range(0,len(train)):\n",
    "    train_data.append([int(numeric_string) for numeric_string in train[a]])\n",
    "\n",
    "for b in range(0,len(test)):\n",
    "    test_data.append([int(numeric_string) for numeric_string in test[b]])\n",
    "\n",
    "X_train = []\n",
    "X_test = []\n",
    "y_train = []\n",
    "y_test = []\n",
    "\n",
    "for i in range(len(train_data)):\n",
    "    X_train.append(train_data[i][0:22])\n",
    "    y_train.append(train_data[i][22])\n",
    "\n",
    "for j in range(len(test_data)):\n",
    "    X_test.append(test_data[j][0:22])\n",
    "    y_test.append(test_data[j][22])"
   ]
  },
  {
   "cell_type": "code",
   "execution_count": 6,
   "metadata": {
    "collapsed": true
   },
   "outputs": [],
   "source": [
    "import numpy as np"
   ]
  },
  {
   "cell_type": "code",
   "execution_count": 7,
   "metadata": {
    "collapsed": true
   },
   "outputs": [],
   "source": [
    "def perceptron_train(w,r,iterations,X_train,y_train):\n",
    "    for i in range(0,iterations): #keep running alg for given amount of iterations\n",
    "        for k in range(0,len(X_train)):\n",
    "            y_est = np.sign(np.dot(X_train[k],weights)) #this is the estimated label\n",
    "            adjustment = []\n",
    "            for l in range(0,len(X_train[k])):\n",
    "                adjustment.append(r*(y_train[k]-y_est)*X_train[k][l]) \n",
    "                #if the label was correct the adjustment will be zero\n",
    "            w = w + adjustment #add it to the weights\n",
    "    return w"
   ]
  },
  {
   "cell_type": "code",
   "execution_count": 8,
   "metadata": {
    "collapsed": true
   },
   "outputs": [],
   "source": [
    "def perceptron_test(final_weights,X_test,y_test):\n",
    "    misclassified = 0 #start counting mistakes made\n",
    "    for i in range(0,len(X_test)):\n",
    "        predicted = np.sign(np.dot(X_test[i],final_weights)) #get prediction\n",
    "        if predicted != y_test[i]: #if the prediction is wrong, increment misclassified\n",
    "            misclassified += 1\n",
    "    error = (misclassified/len(y_test))*100 #return error\n",
    "    return error"
   ]
  },
  {
   "cell_type": "code",
   "execution_count": 9,
   "metadata": {
    "collapsed": true
   },
   "outputs": [],
   "source": [
    "weights = np.zeros(len(X_train[0])) #initialize weights to zero\n",
    "r = .1 #learning rate\n",
    "iterations = 100 #number of iterations before convergence"
   ]
  },
  {
   "cell_type": "code",
   "execution_count": 10,
   "metadata": {
    "scrolled": true
   },
   "outputs": [
    {
     "name": "stdout",
     "output_type": "stream",
     "text": [
      "Error for SPECT perceptron is: 51.33689839572193\n"
     ]
    }
   ],
   "source": [
    "classifier_weights = perceptron_train(weights,r,iterations,X_train,y_train)\n",
    "final_err = perceptron_test(classifier_weights,X_test,y_test)\n",
    "print('Error for SPECT perceptron is: ' + str(final_err))"
   ]
  }
 ],
 "metadata": {
  "kernelspec": {
   "display_name": "Python 3",
   "language": "python",
   "name": "python3"
  },
  "language_info": {
   "codemirror_mode": {
    "name": "ipython",
    "version": 3
   },
   "file_extension": ".py",
   "mimetype": "text/x-python",
   "name": "python",
   "nbconvert_exporter": "python",
   "pygments_lexer": "ipython3",
   "version": "3.5.4"
  }
 },
 "nbformat": 4,
 "nbformat_minor": 2
}
