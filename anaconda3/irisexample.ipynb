{
 "cells": [
  {
   "cell_type": "code",
   "execution_count": 5,
   "metadata": {
    "collapsed": true
   },
   "outputs": [],
   "source": [
    "from sklearn import datasets #I can get the iris data here\n",
    "from sklearn import svm #I'll use SVM for a classifier\n",
    "from sklearn.model_selection import train_test_split #this is how to split into 70/30% train and test portions \n",
    "from sklearn.metrics import accuracy_score #to calculate accuracy"
   ]
  },
  {
   "cell_type": "code",
   "execution_count": 6,
   "metadata": {
    "collapsed": true
   },
   "outputs": [],
   "source": [
    "iris = datasets.load_iris() #load data\n",
    "X_train, X_test, y_train, y_test = train_test_split(iris.data, iris.target, test_size=0.3, random_state=42) #split it"
   ]
  },
  {
   "cell_type": "code",
   "execution_count": 7,
   "metadata": {},
   "outputs": [
    {
     "name": "stdout",
     "output_type": "stream",
     "text": [
      "Accuracy using linear SVM 100.0%\n"
     ]
    }
   ],
   "source": [
    "classifier = svm.SVC(kernel='linear').fit(X_train, y_train) #linear SVM \n",
    "predicted = classifier.predict(X_test)\n",
    "acc = accuracy_score(predicted,y_test)\n",
    "acc = acc*100\n",
    "print(\"Accuracy using linear SVM \" + str(acc) + \"%\")"
   ]
  }
 ],
 "metadata": {
  "kernelspec": {
   "display_name": "Python 3",
   "language": "python",
   "name": "python3"
  },
  "language_info": {
   "codemirror_mode": {
    "name": "ipython",
    "version": 3
   },
   "file_extension": ".py",
   "mimetype": "text/x-python",
   "name": "python",
   "nbconvert_exporter": "python",
   "pygments_lexer": "ipython3",
   "version": "3.5.4"
  }
 },
 "nbformat": 4,
 "nbformat_minor": 2
}
