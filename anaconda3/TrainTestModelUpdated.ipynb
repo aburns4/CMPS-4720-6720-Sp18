{
 "cells": [
  {
   "cell_type": "code",
   "execution_count": 2,
   "metadata": {
    "collapsed": true
   },
   "outputs": [],
   "source": [
    "#Andrea Burns\n",
    "#Data Reader\n",
    "import pandas as pd\n",
    "import numpy as np\n",
    "import itertools"
   ]
  },
  {
   "cell_type": "code",
   "execution_count": 30,
   "metadata": {
    "collapsed": true
   },
   "outputs": [],
   "source": [
    "#read each data frame in from my excel sheets\n",
    "xls = pd.ExcelFile('DataDownload.xls')\n",
    "df1 = pd.read_excel(xls, 'ACCESS')\n",
    "df2 = pd.read_excel(xls, 'STORES')\n",
    "df3 = pd.read_excel(xls, 'RESTAURANTS')\n",
    "df4 = pd.read_excel(xls, 'ASSISTANCE')\n",
    "df5 = pd.read_excel(xls, 'INSECURITY')\n",
    "df6 = pd.read_excel(xls, 'PRICES_TAXES')\n",
    "df7 = pd.read_excel(xls, 'LOCAL')\n",
    "df8 = pd.read_excel(xls, 'HEALTH')\n",
    "df9 = pd.read_excel(xls, 'SOCIOECONOMIC')"
   ]
  },
  {
   "cell_type": "code",
   "execution_count": 31,
   "metadata": {
    "collapsed": true
   },
   "outputs": [],
   "source": [
    "#these will be my output space; I'll try to predict these features\n",
    "diabetes08 = df8['PCT_DIABETES_ADULTS08'].as_matrix()\n",
    "diabetes13 = df8['PCT_DIABETES_ADULTS13'].as_matrix()\n",
    "obesity08 = df8['PCT_OBESE_ADULTS08'].as_matrix()\n",
    "obesity13 = df8['PCT_OBESE_ADULTS13'].as_matrix()"
   ]
  },
  {
   "cell_type": "code",
   "execution_count": 32,
   "metadata": {
    "collapsed": true
   },
   "outputs": [],
   "source": [
    "#remove my Y from the feature space to train on\n",
    "df8 = df8.drop('PCT_DIABETES_ADULTS08', 1)\n",
    "df8 = df8.drop('PCT_DIABETES_ADULTS13', 1)\n",
    "df8 = df8.drop('PCT_OBESE_ADULTS08', 1)\n",
    "df8 = df8.drop('PCT_OBESE_ADULTS13', 1)"
   ]
  },
  {
   "cell_type": "code",
   "execution_count": 6,
   "metadata": {
    "collapsed": true
   },
   "outputs": [],
   "source": [
    "alldata = [df1,df2,df3,df4,df5,df6,df7,df8,df9] "
   ]
  },
  {
   "cell_type": "code",
   "execution_count": 7,
   "metadata": {
    "collapsed": true
   },
   "outputs": [],
   "source": [
    "#formatting all instances\n",
    "X = []\n",
    "i = 0\n",
    "for i in range(0,3143):\n",
    "    current_row = []\n",
    "    for frame in alldata:\n",
    "        mat = frame.as_matrix()\n",
    "        current_row.append(mat[i][3:])\n",
    "    X.append(list(itertools.chain(*current_row)))"
   ]
  },
  {
   "cell_type": "code",
   "execution_count": 8,
   "metadata": {
    "collapsed": true
   },
   "outputs": [],
   "source": [
    "#some features are missing data for specific instances, so I want to find them and deal with them\n",
    "missing = np.argwhere(np.isnan(X))"
   ]
  },
  {
   "cell_type": "code",
   "execution_count": 9,
   "metadata": {},
   "outputs": [
    {
     "name": "stdout",
     "output_type": "stream",
     "text": [
      "{1, 2, 4, 6, 7, 9, 11, 12, 14, 15, 16, 18, 19, 21, 23, 24, 26, 27, 28, 29, 30, 31, 32, 33, 34, 35, 36, 37, 38, 39, 40, 43, 46, 49, 52, 55, 58, 61, 64, 67, 69, 70, 73, 76, 79, 82, 85, 88, 93, 94, 95, 99, 100, 101, 115, 116, 117, 118, 125, 126, 127, 128, 129, 130, 146, 147, 148, 154, 155, 156, 157, 158, 159, 160, 161, 162, 163, 164, 165, 166, 167, 169, 170, 172, 173, 174, 175, 176, 177, 178, 179, 180, 181, 182, 183, 184, 185, 186, 187, 188, 189, 190, 191, 192, 193, 194, 195, 196, 197, 198, 199, 200, 201, 202, 203, 204, 205, 206, 207, 208, 209, 210, 211, 212, 213, 214, 215, 216, 217, 218, 219, 220, 221, 222, 223, 224, 225, 226, 227, 228, 229, 230, 231, 232, 233, 234, 235, 236, 237, 238, 240, 241, 242, 243, 244, 245, 246, 247, 248, 249, 250, 251, 254, 257, 266, 267, 269, 272}\n"
     ]
    }
   ],
   "source": [
    "feats = []\n",
    "for i in range(0,len(missing)):\n",
    "    feats.append(missing[i][1])\n",
    "print(set(feats))"
   ]
  },
  {
   "cell_type": "code",
   "execution_count": 10,
   "metadata": {
    "collapsed": true
   },
   "outputs": [],
   "source": [
    "#these are two of the ~10 categorical features. Only these two have missing features\n",
    "#since they are 0 or 1 binary classes, it doesn't make sense to replace NaN values with the mean of the column\n",
    "#so instead I replace it will -1 as a \"missing\" class\n",
    "for i in range(0,len(missing)):\n",
    "    if missing[i][1] == 249:\n",
    "        X[missing[i][0]][249] = -1\n",
    "    elif missing[i][1] == 250:\n",
    "        X[missing[i][0]][250] = -1"
   ]
  },
  {
   "cell_type": "code",
   "execution_count": 11,
   "metadata": {
    "collapsed": true
   },
   "outputs": [],
   "source": [
    "#all other features are continuous so I can impute NaN values with the mean of the feature!\n",
    "from sklearn.preprocessing import Imputer\n",
    "# missing_values is the value of your placeholder, strategy is if you'd like mean, median or mode, and axis=0 means it calculates the imputation based on the other feature values for that sample\n",
    "imp = Imputer(missing_values='NaN', strategy='mean', axis=0)\n",
    "imp.fit(X)\n",
    "inputspace = imp.transform(X)"
   ]
  },
  {
   "cell_type": "code",
   "execution_count": 12,
   "metadata": {
    "collapsed": true
   },
   "outputs": [],
   "source": [
    "#I didn't previously realize that the diabetes and obesity vectors had Nan \n",
    "#now fixing it similarly with the below cells, only a few were missing (3 or 4)\n",
    "imp2 = Imputer(missing_values='NaN', strategy='mean', axis=0)\n",
    "diabetes08=diabetes08.reshape(-1,1)\n",
    "imp2.fit(diabetes08)\n",
    "outputspace1 = imp2.transform(diabetes08)"
   ]
  },
  {
   "cell_type": "code",
   "execution_count": 13,
   "metadata": {
    "collapsed": true
   },
   "outputs": [],
   "source": [
    "imp3 = Imputer(missing_values='NaN', strategy='mean', axis=0)\n",
    "diabetes13=diabetes13.reshape(-1,1)\n",
    "imp3.fit(diabetes13)\n",
    "outputspace2 = imp3.transform(diabetes13)"
   ]
  },
  {
   "cell_type": "code",
   "execution_count": 14,
   "metadata": {
    "collapsed": true
   },
   "outputs": [],
   "source": [
    "imp4 = Imputer(missing_values='NaN', strategy='mean', axis=0)\n",
    "obesity08=obesity08.reshape(-1,1)\n",
    "imp4.fit(obesity08)\n",
    "outputspace3 = imp4.transform(obesity08)"
   ]
  },
  {
   "cell_type": "code",
   "execution_count": 15,
   "metadata": {
    "collapsed": true
   },
   "outputs": [],
   "source": [
    "imp5 = Imputer(missing_values='NaN', strategy='mean', axis=0)\n",
    "obesity13=obesity13.reshape(-1,1)\n",
    "imp5.fit(obesity13)\n",
    "outputspace4 = imp5.transform(obesity13)"
   ]
  },
  {
   "cell_type": "code",
   "execution_count": 16,
   "metadata": {
    "collapsed": true
   },
   "outputs": [],
   "source": [
    "from sklearn.svm import SVR\n",
    "from sklearn.model_selection import train_test_split\n",
    "import sklearn.preprocessing as prep\n",
    "inputspace = prep.scale(inputspace)\n",
    "\n",
    "#making different classifiers to try to predict the four rates \n",
    "X_train, X_test, y_train, y_test = train_test_split(inputspace,outputspace1.ravel(), test_size=0.1, random_state=42)\n",
    "diab8clf = SVR(C=1.0, epsilon=0.2)\n",
    "\n",
    "X_train2, X_test2, y_train2, y_test2 = train_test_split(inputspace,outputspace2.ravel(), test_size=0.1, random_state=42)\n",
    "diab13clf = SVR(C=1.0, epsilon=0.2)\n",
    "\n",
    "X_train3, X_test3, y_train3, y_test3 = train_test_split(inputspace,outputspace3.ravel(), test_size=0.1, random_state=42)\n",
    "obes8clf = SVR(C=1.0, epsilon=0.2)\n",
    "\n",
    "X_train4, X_test4, y_train4, y_test4 = train_test_split(inputspace,outputspace4.ravel(), test_size=0.1, random_state=42)\n",
    "obes13clf = SVR(C=1.0, epsilon=0.2)"
   ]
  },
  {
   "cell_type": "code",
   "execution_count": 119,
   "metadata": {},
   "outputs": [
    {
     "data": {
      "text/plain": [
       "SVR(C=1.0, cache_size=200, coef0=0.0, degree=3, epsilon=0.2, gamma='auto',\n",
       "  kernel='rbf', max_iter=-1, shrinking=True, tol=0.001, verbose=False)"
      ]
     },
     "execution_count": 119,
     "metadata": {},
     "output_type": "execute_result"
    }
   ],
   "source": [
    "#fitting train data with SVM model for regression, as I am predicting the diabetes or obesity rates\n",
    "#which are continuous values\n",
    "diab8clf.fit(X_train,y_train)\n",
    "diab13clf.fit(X_train2,y_train2)\n",
    "obes8clf.fit(X_train3,y_train3)\n",
    "obes13clf.fit(X_train4,y_train4)"
   ]
  },
  {
   "cell_type": "code",
   "execution_count": 120,
   "metadata": {
    "collapsed": true
   },
   "outputs": [],
   "source": [
    "#test portion \n",
    "diabetes8pred = diab8clf.predict(X_test)\n",
    "diabetes13pred = diab13clf.predict(X_test2)\n",
    "obesity8pred = obes8clf.predict(X_test3)\n",
    "obesity13pred = obes13clf.predict(X_test4)"
   ]
  },
  {
   "cell_type": "code",
   "execution_count": 122,
   "metadata": {},
   "outputs": [
    {
     "name": "stdout",
     "output_type": "stream",
     "text": [
      "Pearson Coefficient and MSE for Diabetes Prediction in 2008\n",
      "(0.9119756128617906, 3.7663255632562475e-123)\n",
      "0.82236275945728\n",
      "\n",
      "Pearson Coefficient and MSE for Diabetes Prediction in 2013\n",
      "(0.8740210255469344, 3.960268806775074e-100)\n",
      "1.5043250592260557\n",
      "\n",
      "Pearson Coefficient and MSE for Obesity Prediction in 2008\n",
      "(0.8363386149441886, 1.052059362694424e-83)\n",
      "4.542912274967804\n",
      "\n",
      "Pearson Coefficient and MSE for Obesity Prediction in 2013\n",
      "(0.8165881401494428, 1.0994118503700413e-76)\n",
      "7.158954486310911\n"
     ]
    }
   ],
   "source": [
    "#these are two standard performance metrics for regression, printing them for each\n",
    "#mean squared error has been shown in class, kind of like avg. distance btw output and target values\n",
    "#pearson coefficient is a statistic used to show the strength of a linear relationship\n",
    "#best pearson value possible is -1 or 1 (perfectly negative or positive relationship)\n",
    "\n",
    "from scipy.stats import pearsonr\n",
    "from sklearn.metrics import mean_squared_error\n",
    "print('Pearson Coefficient and MSE for Diabetes Prediction in 2008')\n",
    "print(pearsonr(np.asarray(y_test).ravel(),diabetes8pred.ravel()))\n",
    "mean_sqr1 = mean_squared_error(diabetes8pred, y_test)\n",
    "print(mean_sqr1)\n",
    "print()\n",
    "\n",
    "print('Pearson Coefficient and MSE for Diabetes Prediction in 2013')\n",
    "print(pearsonr(np.asarray(y_test2).ravel(),diabetes13pred.ravel()))\n",
    "mean_sqr2 = mean_squared_error(diabetes13pred, y_test2)\n",
    "print(mean_sqr2)\n",
    "print()\n",
    "\n",
    "print('Pearson Coefficient and MSE for Obesity Prediction in 2008')\n",
    "print(pearsonr(np.asarray(y_test3).ravel(),obesity8pred.ravel()))\n",
    "mean_sqr3 = mean_squared_error(obesity8pred, y_test3)\n",
    "print(mean_sqr3)\n",
    "print()\n",
    "\n",
    "print('Pearson Coefficient and MSE for Obesity Prediction in 2013')\n",
    "print(pearsonr(np.asarray(y_test4).ravel(),obesity13pred.ravel()))\n",
    "mean_sqr4 = mean_squared_error(obesity13pred, y_test4)\n",
    "print(mean_sqr4)"
   ]
  },
  {
   "cell_type": "code",
   "execution_count": 18,
   "metadata": {},
   "outputs": [
    {
     "name": "stdout",
     "output_type": "stream",
     "text": [
      "Pearson Coefficient and MSE for Diabetes Prediction in 2008 using Lasso\n",
      "(0.8676361748253112, 5.360065358017706e-97)\n",
      "1.2477833764971789\n",
      "\n",
      "Pearson Coefficient and MSE for Diabetes Prediction in 2013 using Lasso\n",
      "(0.8347762812150441, 4.080754834495669e-83)\n",
      "1.9602930819082411\n",
      "\n",
      "Pearson Coefficient and MSE for Obesity Prediction in 2008 using Lasso\n",
      "(0.8193138674070828, 1.3303836671009461e-77)\n",
      "4.826683153102001\n",
      "\n",
      "Pearson Coefficient and MSE for Obesity Prediction in 2013 using Lasso\n",
      "(0.8034015374594011, 1.8702031812770628e-72)\n",
      "7.511292320821416\n"
     ]
    }
   ],
   "source": [
    "from sklearn import linear_model\n",
    "reg1 = linear_model.Lasso(alpha = 0.1)\n",
    "reg1.fit(X_train,y_train)\n",
    "\n",
    "reg2 = linear_model.Lasso(alpha = 0.1)\n",
    "reg2.fit(X_train2,y_train2)\n",
    "\n",
    "reg3 = linear_model.Lasso(alpha = 0.1)\n",
    "reg3.fit(X_train3,y_train3)\n",
    "\n",
    "reg4 = linear_model.Lasso(alpha = 0.1)\n",
    "reg4.fit(X_train4,y_train4)\n",
    "\n",
    "#test portion \n",
    "diabetes8predLasso = reg1.predict(X_test)\n",
    "diabetes13predLasso = reg2.predict(X_test2)\n",
    "obesity8predLasso = reg3.predict(X_test3)\n",
    "obesity13predLasso = reg4.predict(X_test4)\n",
    "\n",
    "from scipy.stats import pearsonr\n",
    "from sklearn.metrics import mean_squared_error\n",
    "print('Pearson Coefficient and MSE for Diabetes Prediction in 2008 using Lasso')\n",
    "print(pearsonr(np.asarray(y_test).ravel(),diabetes8predLasso.ravel()))\n",
    "mean_sqr1 = mean_squared_error(diabetes8predLasso, y_test)\n",
    "print(mean_sqr1)\n",
    "print()\n",
    "\n",
    "print('Pearson Coefficient and MSE for Diabetes Prediction in 2013 using Lasso')\n",
    "print(pearsonr(np.asarray(y_test2).ravel(),diabetes13predLasso.ravel()))\n",
    "mean_sqr2 = mean_squared_error(diabetes13predLasso, y_test2)\n",
    "print(mean_sqr2)\n",
    "print()\n",
    "\n",
    "print('Pearson Coefficient and MSE for Obesity Prediction in 2008 using Lasso')\n",
    "print(pearsonr(np.asarray(y_test3).ravel(),obesity8predLasso.ravel()))\n",
    "mean_sqr3 = mean_squared_error(obesity8predLasso, y_test3)\n",
    "print(mean_sqr3)\n",
    "print()\n",
    "\n",
    "print('Pearson Coefficient and MSE for Obesity Prediction in 2013 using Lasso')\n",
    "print(pearsonr(np.asarray(y_test4).ravel(),obesity13predLasso.ravel()))\n",
    "mean_sqr4 = mean_squared_error(obesity13predLasso, y_test4)\n",
    "print(mean_sqr4)"
   ]
  },
  {
   "cell_type": "code",
   "execution_count": 25,
   "metadata": {},
   "outputs": [
    {
     "name": "stdout",
     "output_type": "stream",
     "text": [
      "Pearson Coefficient and MSE for Diabetes Prediction in 2008 using KNeighborsRegressor\n",
      "(0.8718923837497738, 4.5746859307970246e-99)\n",
      "1.1334220437134102\n",
      "\n",
      "Pearson Coefficient and MSE for Diabetes Prediction in 2013 using KNeighborsRegressor\n",
      "(0.8120853717853946, 3.3365829937162197e-75)\n",
      "3.8694981960068424\n",
      "\n",
      "Pearson Coefficient and MSE for Obesity Prediction in 2008 using KNeighborsRegressor\n",
      "(0.7059801194177087, 8.100849464115205e-49)\n",
      "369.81290714683126\n",
      "\n",
      "Pearson Coefficient and MSE for Obesity Prediction in 2013 using KNeighborsRegressor\n",
      "(0.6533610011889457, 1.005068931545969e-39)\n",
      "461.25043186116613\n"
     ]
    }
   ],
   "source": [
    "from sklearn.neighbors import KNeighborsRegressor\n",
    "neigh1 = KNeighborsRegressor(n_neighbors=4)\n",
    "neigh2 = KNeighborsRegressor(n_neighbors=4)\n",
    "neigh3 = KNeighborsRegressor(n_neighbors=4)\n",
    "neigh4 = KNeighborsRegressor(n_neighbors=4)\n",
    "\n",
    "neigh1.fit(X_train,y_train)\n",
    "neigh2.fit(X_train,y_train)\n",
    "neigh3.fit(X_train,y_train)\n",
    "neigh4.fit(X_train,y_train)\n",
    "\n",
    "#test portion \n",
    "diabetes8predNeigh = neigh1.predict(X_test)\n",
    "diabetes13predNeigh = neigh2.predict(X_test2)\n",
    "obesity8predNeigh = neigh3.predict(X_test3)\n",
    "obesity13predNeigh = neigh4.predict(X_test4)\n",
    "\n",
    "print('Pearson Coefficient and MSE for Diabetes Prediction in 2008 using KNeighborsRegressor')\n",
    "print(pearsonr(np.asarray(y_test).ravel(),diabetes8predNeigh.ravel()))\n",
    "mean_sqr1 = mean_squared_error(diabetes8predNeigh, y_test)\n",
    "print(mean_sqr1)\n",
    "print()\n",
    "\n",
    "print('Pearson Coefficient and MSE for Diabetes Prediction in 2013 using KNeighborsRegressor')\n",
    "print(pearsonr(np.asarray(y_test2).ravel(),diabetes13predNeigh.ravel()))\n",
    "mean_sqr2 = mean_squared_error(diabetes13predNeigh, y_test2)\n",
    "print(mean_sqr2)\n",
    "print()\n",
    "\n",
    "print('Pearson Coefficient and MSE for Obesity Prediction in 2008 using KNeighborsRegressor')\n",
    "print(pearsonr(np.asarray(y_test3).ravel(),obesity8predNeigh.ravel()))\n",
    "mean_sqr3 = mean_squared_error(obesity8predNeigh, y_test3)\n",
    "print(mean_sqr3)\n",
    "print()\n",
    "\n",
    "print('Pearson Coefficient and MSE for Obesity Prediction in 2013 using KNeighborsRegressor')\n",
    "print(pearsonr(np.asarray(y_test4).ravel(),obesity13predNeigh.ravel()))\n",
    "mean_sqr4 = mean_squared_error(obesity13predNeigh, y_test4)\n",
    "print(mean_sqr4)"
   ]
  },
  {
   "cell_type": "code",
   "execution_count": 22,
   "metadata": {
    "collapsed": true
   },
   "outputs": [],
   "source": [
    "from sklearn.neural_network import MLPRegressor"
   ]
  },
  {
   "cell_type": "code",
   "execution_count": 27,
   "metadata": {},
   "outputs": [
    {
     "name": "stdout",
     "output_type": "stream",
     "text": [
      "Pearson Coefficient and MSE for Diabetes Prediction in 2008 using MLPRegressor\n",
      "(0.8475054356052274, 4.218064790764552e-88)\n",
      "1.425592221294647\n",
      "\n",
      "Pearson Coefficient and MSE for Diabetes Prediction in 2013 using MLPRegressor\n",
      "(0.7620428017839961, 4.948758793914017e-61)\n",
      "4.487663790085343\n",
      "\n",
      "Pearson Coefficient and MSE for Obesity Prediction in 2008 using MLPRegressor\n",
      "(0.7031067536019321, 2.8622228077965127e-48)\n",
      "370.49666506132905\n",
      "\n",
      "Pearson Coefficient and MSE for Obesity Prediction in 2013 using MLPRegressor\n",
      "(0.5930189087557544, 2.6557646942945248e-31)\n",
      "461.19601038605776\n"
     ]
    }
   ],
   "source": [
    "NN1 = MLPRegressor()\n",
    "NN2 = MLPRegressor()\n",
    "NN3 = MLPRegressor()\n",
    "NN4 = MLPRegressor()\n",
    "\n",
    "NN1.fit(X_train,y_train)\n",
    "NN2.fit(X_train,y_train)\n",
    "NN3.fit(X_train,y_train)\n",
    "NN4.fit(X_train,y_train)\n",
    "\n",
    "#test portion \n",
    "diabetes8predNN = NN1.predict(X_test)\n",
    "diabetes13predNN = NN2.predict(X_test2)\n",
    "obesity8predNN = NN3.predict(X_test3)\n",
    "obesity13predNN = NN4.predict(X_test4)\n",
    "\n",
    "print('Pearson Coefficient and MSE for Diabetes Prediction in 2008 using MLPRegressor')\n",
    "print(pearsonr(np.asarray(y_test).ravel(),diabetes8predNN.ravel()))\n",
    "mean_sqr1 = mean_squared_error(diabetes8predNN, y_test)\n",
    "print(mean_sqr1)\n",
    "print()\n",
    "\n",
    "print('Pearson Coefficient and MSE for Diabetes Prediction in 2013 using MLPRegressor')\n",
    "print(pearsonr(np.asarray(y_test2).ravel(),diabetes13predNN.ravel()))\n",
    "mean_sqr2 = mean_squared_error(diabetes13predNN, y_test2)\n",
    "print(mean_sqr2)\n",
    "print()\n",
    "\n",
    "print('Pearson Coefficient and MSE for Obesity Prediction in 2008 using MLPRegressor')\n",
    "print(pearsonr(np.asarray(y_test3).ravel(),obesity8predNN.ravel()))\n",
    "mean_sqr3 = mean_squared_error(obesity8predNN, y_test3)\n",
    "print(mean_sqr3)\n",
    "print()\n",
    "\n",
    "print('Pearson Coefficient and MSE for Obesity Prediction in 2013 using MLPRegressor')\n",
    "print(pearsonr(np.asarray(y_test4).ravel(),obesity13predNN.ravel()))\n",
    "mean_sqr4 = mean_squared_error(obesity13predNN, y_test4)\n",
    "print(mean_sqr4)"
   ]
  },
  {
   "cell_type": "code",
   "execution_count": 33,
   "metadata": {},
   "outputs": [
    {
     "name": "stdout",
     "output_type": "stream",
     "text": [
      "{1, 2, 4, 6, 7, 9, 11, 12, 14, 15, 16, 18, 19, 21, 23, 24, 26, 27, 28, 29, 30, 31, 32, 33, 34, 35, 36, 37, 38, 39, 40, 43, 46, 49, 52, 55, 58, 61, 64, 67, 69, 70, 73, 76, 79, 82, 85, 88, 93, 94, 95, 99, 100, 101, 115, 116, 117, 118, 125, 126, 127, 128, 129, 130, 146, 147, 148, 154, 155, 156, 157, 158, 159, 160, 161, 162, 163, 164, 165, 166, 167, 169, 170, 172, 173, 174, 175, 176, 177, 178, 179, 180, 181, 182, 183, 184, 185, 186, 187, 188, 189, 190, 191, 192, 193, 194, 195, 196, 197, 198, 199, 200, 201, 202, 203, 204, 205, 206, 207, 208, 209, 210, 211, 212, 213, 214, 215, 216, 217, 218, 219, 220, 221, 222, 223, 224, 225, 226, 227, 228, 229, 230, 231, 232, 233, 234, 235, 236, 237, 238, 240, 241, 242, 243, 244, 245, 246, 247, 248, 249, 250, 259, 260, 262, 265}\n"
     ]
    }
   ],
   "source": [
    "#now drop additional health features to see how it influences results\n",
    "df8 = df8.drop('PCT_HSPA15', 1)\n",
    "df8 = df8.drop('RECFAC09', 1)\n",
    "df8 = df8.drop('RECFAC14', 1)\n",
    "df8 = df8.drop('PCH_RECFAC_09_14', 1)\n",
    "df8 = df8.drop('RECFACPTH09', 1)\n",
    "df8 = df8.drop('RECFACPTH14', 1)\n",
    "df8 = df8.drop('PCH_RECFACPTH_09_14', 1)\n",
    "\n",
    "datawithouthealth = [df1,df2,df3,df4,df5,df6,df7,df8,df9] \n",
    "\n",
    "#formatting all instances\n",
    "X = []\n",
    "i = 0\n",
    "for i in range(0,3143):\n",
    "    current_row = []\n",
    "    for frame in datawithouthealth:\n",
    "        mat = frame.as_matrix()\n",
    "        current_row.append(mat[i][3:])\n",
    "    X.append(list(itertools.chain(*current_row)))\n",
    "\n",
    "#some features are missing data for specific instances, so I want to find them and deal with them\n",
    "missing = np.argwhere(np.isnan(X))\n",
    "\n",
    "feats = []\n",
    "for i in range(0,len(missing)):\n",
    "    feats.append(missing[i][1])\n",
    "\n",
    "#these are two of the ~10 categorical features. Only these two have missing features\n",
    "#since they are 0 or 1 binary classes, it doesn't make sense to replace NaN values with the mean of the column\n",
    "#so instead I replace it will -1 as a \"missing\" class\n",
    "for i in range(0,len(missing)):\n",
    "    if missing[i][1] == 249:\n",
    "        X[missing[i][0]][249] = -1\n",
    "    elif missing[i][1] == 250:\n",
    "        X[missing[i][0]][250] = -1\n",
    "\n",
    "#all other features are continuous so I can impute NaN values with the mean of the feature!\n",
    "from sklearn.preprocessing import Imputer\n",
    "# missing_values is the value of your placeholder, strategy is if you'd like mean, median or mode, and axis=0 means it calculates the imputation based on the other feature values for that sample\n",
    "imp = Imputer(missing_values='NaN', strategy='mean', axis=0)\n",
    "imp.fit(X)\n",
    "inputspace = imp.transform(X)\n",
    "\n",
    "#I didn't previously realize that the diabetes and obesity vectors had Nan \n",
    "#now fixing it similarly with the below cells, only a few were missing (3 or 4)\n",
    "imp2 = Imputer(missing_values='NaN', strategy='mean', axis=0)\n",
    "diabetes08=diabetes08.reshape(-1,1)\n",
    "imp2.fit(diabetes08)\n",
    "outputspace1 = imp2.transform(diabetes08)\n",
    "\n",
    "imp3 = Imputer(missing_values='NaN', strategy='mean', axis=0)\n",
    "diabetes13=diabetes13.reshape(-1,1)\n",
    "imp3.fit(diabetes13)\n",
    "outputspace2 = imp3.transform(diabetes13)\n",
    "\n",
    "imp4 = Imputer(missing_values='NaN', strategy='mean', axis=0)\n",
    "obesity08=obesity08.reshape(-1,1)\n",
    "imp4.fit(obesity08)\n",
    "outputspace3 = imp4.transform(obesity08)\n",
    "\n",
    "imp5 = Imputer(missing_values='NaN', strategy='mean', axis=0)\n",
    "obesity13=obesity13.reshape(-1,1)\n",
    "imp5.fit(obesity13)\n",
    "outputspace4 = imp5.transform(obesity13)\n",
    "\n",
    "inputspacewithouthealth = prep.scale(inputspace)\n",
    "\n",
    "X_train, X_test, y_train, y_test = train_test_split(inputspacewithouthealth,outputspace1.ravel(), test_size=0.1, random_state=42)\n",
    "\n",
    "X_train2, X_test2, y_train2, y_test2 = train_test_split(inputspacewithouthealth,outputspace2.ravel(), test_size=0.1, random_state=42)\n",
    "\n",
    "X_train3, X_test3, y_train3, y_test3 = train_test_split(inputspacewithouthealth,outputspace3.ravel(), test_size=0.1, random_state=42)\n",
    "\n",
    "X_train4, X_test4, y_train4, y_test4 = train_test_split(inputspacewithouthealth,outputspace4.ravel(), test_size=0.1, random_state=42)\n",
    "\n"
   ]
  },
  {
   "cell_type": "code",
   "execution_count": 36,
   "metadata": {},
   "outputs": [
    {
     "name": "stdout",
     "output_type": "stream",
     "text": [
      "Pearson Coefficient and MSE for Diabetes Prediction in 2008 using SVR without health factors\n",
      "(0.9113778317864002, 1.0350401063976097e-122)\n",
      "0.8271951488977475\n",
      "\n",
      "Pearson Coefficient and MSE for Diabetes Prediction in 2013 using SVR without health factors\n",
      "(0.8745309419363685, 2.1892767613936128e-100)\n",
      "1.5006980490061568\n",
      "\n",
      "Pearson Coefficient and MSE for Obesity Prediction in 2008 using SVR without health factors\n",
      "(0.8346926714870706, 4.3860305140648884e-83)\n",
      "4.579762587043926\n",
      "\n",
      "Pearson Coefficient and MSE for Obesity Prediction in 2013 using SVR without health factors\n",
      "(0.8158009769996849, 2.0099857908752087e-76)\n",
      "7.172651385504216\n"
     ]
    }
   ],
   "source": [
    "diab8clfSVR = SVR(C=1.0, epsilon=0.2)\n",
    "diab13clfSVR = SVR(C=1.0, epsilon=0.2)\n",
    "obes8clfSVR = SVR(C=1.0, epsilon=0.2)\n",
    "obes13clfSVR = SVR(C=1.0, epsilon=0.2)\n",
    "\n",
    "diab8clfSVR.fit(X_train,y_train)\n",
    "diab13clfSVR.fit(X_train2,y_train2)\n",
    "obes8clfSVR.fit(X_train3,y_train3)\n",
    "obes13clfSVR.fit(X_train4,y_train4)\n",
    "\n",
    "diabetes8predSVR = diab8clfSVR.predict(X_test)\n",
    "diabetes13predSVR = diab13clfSVR.predict(X_test2)\n",
    "obesity8predSVR = obes8clfSVR.predict(X_test3)\n",
    "obesity13predSVR = obes13clfSVR.predict(X_test4)\n",
    "\n",
    "print('Pearson Coefficient and MSE for Diabetes Prediction in 2008 using SVR without health factors')\n",
    "print(pearsonr(np.asarray(y_test).ravel(),diabetes8predSVR.ravel()))\n",
    "mean_sqr1 = mean_squared_error(diabetes8predSVR, y_test)\n",
    "print(mean_sqr1)\n",
    "print()\n",
    "\n",
    "print('Pearson Coefficient and MSE for Diabetes Prediction in 2013 using SVR without health factors')\n",
    "print(pearsonr(np.asarray(y_test2).ravel(),diabetes13predSVR.ravel()))\n",
    "mean_sqr2 = mean_squared_error(diabetes13predSVR, y_test2)\n",
    "print(mean_sqr2)\n",
    "print()\n",
    "\n",
    "print('Pearson Coefficient and MSE for Obesity Prediction in 2008 using SVR without health factors')\n",
    "print(pearsonr(np.asarray(y_test3).ravel(),obesity8predSVR.ravel()))\n",
    "mean_sqr3 = mean_squared_error(obesity8predSVR, y_test3)\n",
    "print(mean_sqr3)\n",
    "print()\n",
    "\n",
    "print('Pearson Coefficient and MSE for Obesity Prediction in 2013 using SVR without health factors')\n",
    "print(pearsonr(np.asarray(y_test4).ravel(),obesity13predSVR.ravel()))\n",
    "mean_sqr4 = mean_squared_error(obesity13predSVR, y_test4)\n",
    "print(mean_sqr4)"
   ]
  },
  {
   "cell_type": "code",
   "execution_count": 38,
   "metadata": {},
   "outputs": [
    {
     "name": "stdout",
     "output_type": "stream",
     "text": [
      "Pearson Coefficient and MSE for Diabetes Prediction in 2008 using Lasso w/o health factors\n",
      "(0.8678542242497431, 4.216371106252921e-97)\n",
      "1.246824158590935\n",
      "\n",
      "Pearson Coefficient and MSE for Diabetes Prediction in 2013 using Lasso w/o health factors\n",
      "(0.836666850110862, 7.89894441182933e-84)\n",
      "1.9438202565555593\n",
      "\n",
      "Pearson Coefficient and MSE for Obesity Prediction in 2008 using Lasso w/o health factors\n",
      "(0.8178821880957337, 4.051746748525077e-77)\n",
      "4.857236881597624\n",
      "\n",
      "Pearson Coefficient and MSE for Obesity Prediction in 2013 using Lasso w/o health factors\n",
      "(0.8016144642508652, 6.614373965213981e-72)\n",
      "7.566092833073249\n"
     ]
    }
   ],
   "source": [
    "reg1 = linear_model.Lasso(alpha = 0.1)\n",
    "reg1.fit(X_train,y_train)\n",
    "\n",
    "reg2 = linear_model.Lasso(alpha = 0.1)\n",
    "reg2.fit(X_train2,y_train2)\n",
    "\n",
    "reg3 = linear_model.Lasso(alpha = 0.1)\n",
    "reg3.fit(X_train3,y_train3)\n",
    "\n",
    "reg4 = linear_model.Lasso(alpha = 0.1)\n",
    "reg4.fit(X_train4,y_train4)\n",
    "\n",
    "#test portion \n",
    "diabetes8predLasso = reg1.predict(X_test)\n",
    "diabetes13predLasso = reg2.predict(X_test2)\n",
    "obesity8predLasso = reg3.predict(X_test3)\n",
    "obesity13predLasso = reg4.predict(X_test4)\n",
    "\n",
    "from scipy.stats import pearsonr\n",
    "from sklearn.metrics import mean_squared_error\n",
    "print('Pearson Coefficient and MSE for Diabetes Prediction in 2008 using Lasso w/o health factors')\n",
    "print(pearsonr(np.asarray(y_test).ravel(),diabetes8predLasso.ravel()))\n",
    "mean_sqr1 = mean_squared_error(diabetes8predLasso, y_test)\n",
    "print(mean_sqr1)\n",
    "print()\n",
    "\n",
    "print('Pearson Coefficient and MSE for Diabetes Prediction in 2013 using Lasso w/o health factors')\n",
    "print(pearsonr(np.asarray(y_test2).ravel(),diabetes13predLasso.ravel()))\n",
    "mean_sqr2 = mean_squared_error(diabetes13predLasso, y_test2)\n",
    "print(mean_sqr2)\n",
    "print()\n",
    "\n",
    "print('Pearson Coefficient and MSE for Obesity Prediction in 2008 using Lasso w/o health factors')\n",
    "print(pearsonr(np.asarray(y_test3).ravel(),obesity8predLasso.ravel()))\n",
    "mean_sqr3 = mean_squared_error(obesity8predLasso, y_test3)\n",
    "print(mean_sqr3)\n",
    "print()\n",
    "\n",
    "print('Pearson Coefficient and MSE for Obesity Prediction in 2013 using Lasso w/o health factors')\n",
    "print(pearsonr(np.asarray(y_test4).ravel(),obesity13predLasso.ravel()))\n",
    "mean_sqr4 = mean_squared_error(obesity13predLasso, y_test4)\n",
    "print(mean_sqr4)"
   ]
  },
  {
   "cell_type": "code",
   "execution_count": 39,
   "metadata": {},
   "outputs": [
    {
     "name": "stdout",
     "output_type": "stream",
     "text": [
      "Pearson Coefficient and MSE for Diabetes Prediction in 2008 using KNeighborsRegressor w/o health factors\n",
      "(0.8731266976240107, 1.113058041341443e-99)\n",
      "1.123170059586426\n",
      "\n",
      "Pearson Coefficient and MSE for Diabetes Prediction in 2013 using KNeighborsRegressor w/o health factors\n",
      "(0.8110922724567246, 6.995500679693879e-75)\n",
      "3.8765636721973187\n",
      "\n",
      "Pearson Coefficient and MSE for Obesity Prediction in 2008 using KNeighborsRegressor w/o health factors\n",
      "(0.7063068062137856, 7.011093514335402e-49)\n",
      "369.7592742103233\n",
      "\n",
      "Pearson Coefficient and MSE for Obesity Prediction in 2013 using KNeighborsRegressor w/o health factors\n",
      "(0.6464000403404199, 1.178595510133878e-38)\n",
      "461.31995765481696\n"
     ]
    }
   ],
   "source": [
    "neigh1 = KNeighborsRegressor(n_neighbors=4)\n",
    "neigh2 = KNeighborsRegressor(n_neighbors=4)\n",
    "neigh3 = KNeighborsRegressor(n_neighbors=4)\n",
    "neigh4 = KNeighborsRegressor(n_neighbors=4)\n",
    "\n",
    "neigh1.fit(X_train,y_train)\n",
    "neigh2.fit(X_train,y_train)\n",
    "neigh3.fit(X_train,y_train)\n",
    "neigh4.fit(X_train,y_train)\n",
    "\n",
    "#test portion \n",
    "diabetes8predNeigh = neigh1.predict(X_test)\n",
    "diabetes13predNeigh = neigh2.predict(X_test2)\n",
    "obesity8predNeigh = neigh3.predict(X_test3)\n",
    "obesity13predNeigh = neigh4.predict(X_test4)\n",
    "\n",
    "print('Pearson Coefficient and MSE for Diabetes Prediction in 2008 using KNeighborsRegressor w/o health factors')\n",
    "print(pearsonr(np.asarray(y_test).ravel(),diabetes8predNeigh.ravel()))\n",
    "mean_sqr1 = mean_squared_error(diabetes8predNeigh, y_test)\n",
    "print(mean_sqr1)\n",
    "print()\n",
    "\n",
    "print('Pearson Coefficient and MSE for Diabetes Prediction in 2013 using KNeighborsRegressor w/o health factors')\n",
    "print(pearsonr(np.asarray(y_test2).ravel(),diabetes13predNeigh.ravel()))\n",
    "mean_sqr2 = mean_squared_error(diabetes13predNeigh, y_test2)\n",
    "print(mean_sqr2)\n",
    "print()\n",
    "\n",
    "print('Pearson Coefficient and MSE for Obesity Prediction in 2008 using KNeighborsRegressor w/o health factors')\n",
    "print(pearsonr(np.asarray(y_test3).ravel(),obesity8predNeigh.ravel()))\n",
    "mean_sqr3 = mean_squared_error(obesity8predNeigh, y_test3)\n",
    "print(mean_sqr3)\n",
    "print()\n",
    "\n",
    "print('Pearson Coefficient and MSE for Obesity Prediction in 2013 using KNeighborsRegressor w/o health factors')\n",
    "print(pearsonr(np.asarray(y_test4).ravel(),obesity13predNeigh.ravel()))\n",
    "mean_sqr4 = mean_squared_error(obesity13predNeigh, y_test4)\n",
    "print(mean_sqr4)"
   ]
  },
  {
   "cell_type": "code",
   "execution_count": 40,
   "metadata": {},
   "outputs": [
    {
     "name": "stdout",
     "output_type": "stream",
     "text": [
      "Pearson Coefficient and MSE for Diabetes Prediction in 2008 using MLPRegressor w/o health factors\n",
      "(0.8228820465734332, 7.936681130425816e-79)\n",
      "1.7801359177847293\n",
      "\n",
      "Pearson Coefficient and MSE for Diabetes Prediction in 2013 using MLPRegressor w/o health factors\n",
      "(0.7844537162220838, 6.577610612573506e-67)\n",
      "4.362514049845348\n",
      "\n",
      "Pearson Coefficient and MSE for Obesity Prediction in 2008 using MLPRegressor w/o health factors\n",
      "(0.661047688988831, 6.142132708604347e-41)\n",
      "365.82789012566735\n",
      "\n",
      "Pearson Coefficient and MSE for Obesity Prediction in 2013 using MLPRegressor w/o health factors\n",
      "(0.6360912400049792, 4.0225403613473576e-37)\n",
      "459.06288515818636\n"
     ]
    }
   ],
   "source": [
    "NN1 = MLPRegressor()\n",
    "NN2 = MLPRegressor()\n",
    "NN3 = MLPRegressor()\n",
    "NN4 = MLPRegressor()\n",
    "\n",
    "NN1.fit(X_train,y_train)\n",
    "NN2.fit(X_train,y_train)\n",
    "NN3.fit(X_train,y_train)\n",
    "NN4.fit(X_train,y_train)\n",
    "\n",
    "#test portion \n",
    "diabetes8predNN = NN1.predict(X_test)\n",
    "diabetes13predNN = NN2.predict(X_test2)\n",
    "obesity8predNN = NN3.predict(X_test3)\n",
    "obesity13predNN = NN4.predict(X_test4)\n",
    "\n",
    "print('Pearson Coefficient and MSE for Diabetes Prediction in 2008 using MLPRegressor w/o health factors')\n",
    "print(pearsonr(np.asarray(y_test).ravel(),diabetes8predNN.ravel()))\n",
    "mean_sqr1 = mean_squared_error(diabetes8predNN, y_test)\n",
    "print(mean_sqr1)\n",
    "print()\n",
    "\n",
    "print('Pearson Coefficient and MSE for Diabetes Prediction in 2013 using MLPRegressor w/o health factors')\n",
    "print(pearsonr(np.asarray(y_test2).ravel(),diabetes13predNN.ravel()))\n",
    "mean_sqr2 = mean_squared_error(diabetes13predNN, y_test2)\n",
    "print(mean_sqr2)\n",
    "print()\n",
    "\n",
    "print('Pearson Coefficient and MSE for Obesity Prediction in 2008 using MLPRegressor w/o health factors')\n",
    "print(pearsonr(np.asarray(y_test3).ravel(),obesity8predNN.ravel()))\n",
    "mean_sqr3 = mean_squared_error(obesity8predNN, y_test3)\n",
    "print(mean_sqr3)\n",
    "print()\n",
    "\n",
    "print('Pearson Coefficient and MSE for Obesity Prediction in 2013 using MLPRegressor w/o health factors')\n",
    "print(pearsonr(np.asarray(y_test4).ravel(),obesity13predNN.ravel()))\n",
    "mean_sqr4 = mean_squared_error(obesity13predNN, y_test4)\n",
    "print(mean_sqr4)"
   ]
  }
 ],
 "metadata": {
  "kernelspec": {
   "display_name": "Python 3",
   "language": "python",
   "name": "python3"
  },
  "language_info": {
   "codemirror_mode": {
    "name": "ipython",
    "version": 3
   },
   "file_extension": ".py",
   "mimetype": "text/x-python",
   "name": "python",
   "nbconvert_exporter": "python",
   "pygments_lexer": "ipython3",
   "version": "3.5.4"
  }
 },
 "nbformat": 4,
 "nbformat_minor": 2
}
